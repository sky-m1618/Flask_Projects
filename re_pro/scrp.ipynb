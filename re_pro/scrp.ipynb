{
 "cells": [
  {
   "cell_type": "code",
   "execution_count": 2,
   "metadata": {},
   "outputs": [],
   "source": [
    "from bs4 import BeautifulSoup\n",
    "import requests"
   ]
  },
  {
   "cell_type": "code",
   "execution_count": 35,
   "metadata": {},
   "outputs": [],
   "source": [
    "with open(\"index.html\") as html_file:\n",
    "    soup = BeautifulSoup(html_file , \"lxml\")\n",
    "# print(soup)"
   ]
  },
  {
   "cell_type": "code",
   "execution_count": 36,
   "metadata": {},
   "outputs": [
    {
     "name": "stdout",
     "output_type": "stream",
     "text": [
      "Document\n"
     ]
    }
   ],
   "source": [
    "match = soup.title.text\n",
    "print(match)"
   ]
  },
  {
   "cell_type": "code",
   "execution_count": 38,
   "metadata": {},
   "outputs": [
    {
     "name": "stdout",
     "output_type": "stream",
     "text": [
      "this is the summary of article 1\n",
      " Article 1 Headline\n",
      "this is the summary of article 1\n",
      " Article 2 Headline\n",
      "this is the summary of article 2\n",
      " Article 3 Headline\n",
      "this is the summary of article 3\n"
     ]
    }
   ],
   "source": [
    "look = soup.findAll(\"div\", class_ = \"article\")\n",
    "ans = soup.find(class_ = \"ans\")\n",
    "print(ans.text)\n",
    "for i in look:\n",
    "    print(i.h2.a.text)\n",
    "    print(i.p.text)"
   ]
  },
  {
   "cell_type": "code",
   "execution_count": 42,
   "metadata": {},
   "outputs": [],
   "source": [
    "re = requests.get(\"https://www.flipkart.com/mobile-phones-store?fm=neo%2Fmerchandising&iid=M_22c297da-0a0a-4822-950b-19b5ee43a19a_1_372UD5BXDFYS_MC.ZRQ4DKH28K8J&otracker=hp_rich_navigation_2_1.navigationCard.RICH_NAVIGATION_Mobiles_ZRQ4DKH28K8J&otracker1=hp_rich_navigation_PINNED_neo%2Fmerchandising_NA_NAV_EXPANDABLE_navigationCard_cc_2_L0_view-all&cid=ZRQ4DKH28K8J\").text\n",
    "div = \"DMMoT0\"\n",
    "\n",
    "soup = BeautifulSoup(re, \"lxml\")\n",
    "# print(soup.prettify())\n",
    "data = soup.find( class_ = \"cPHDOP col-12-12\")\n"
   ]
  },
  {
   "cell_type": "code",
   "execution_count": null,
   "metadata": {},
   "outputs": [],
   "source": []
  }
 ],
 "metadata": {
  "kernelspec": {
   "display_name": "base",
   "language": "python",
   "name": "python3"
  },
  "language_info": {
   "codemirror_mode": {
    "name": "ipython",
    "version": 3
   },
   "file_extension": ".py",
   "mimetype": "text/x-python",
   "name": "python",
   "nbconvert_exporter": "python",
   "pygments_lexer": "ipython3",
   "version": "3.12.7"
  }
 },
 "nbformat": 4,
 "nbformat_minor": 2
}
